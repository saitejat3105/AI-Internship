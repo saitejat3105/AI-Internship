{
  "nbformat": 4,
  "nbformat_minor": 0,
  "metadata": {
    "colab": {
      "provenance": []
    },
    "kernelspec": {
      "name": "python3",
      "display_name": "Python 3"
    },
    "language_info": {
      "name": "python"
    }
  },
  "cells": [
    {
      "cell_type": "code",
      "execution_count": 9,
      "metadata": {
        "id": "QgDOZDId94WY",
        "colab": {
          "base_uri": "https://localhost:8080/",
          "height": 87
        },
        "outputId": "98922914-d145-4702-c90a-7ac26db99919"
      },
      "outputs": [
        {
          "output_type": "execute_result",
          "data": {
            "text/plain": [
              "'\\nANN ---artificial neural networks\\nai with tensorflow\\nbnn--biological neural network\\nann\\n\\nhuman brain is a complex system made of billions of neurons to mimic function of human by deep learning\\nthe attempts to mimic strtuture and function of human brain led to new field called deep learning\\nann works similar to bnn\\n4 layers in ann\\ninput layer\\nhidden layers(1,2)\\noutput layer\\n\\n\\nbnn normal dendrites anon normal neurons of brain \\n\\nann neuron inputs with input weights is given to summation(f())\\nhere f() is activation function and summation is summing function and \\ngives output as result \\n'"
            ],
            "application/vnd.google.colaboratory.intrinsic+json": {
              "type": "string"
            }
          },
          "metadata": {},
          "execution_count": 9
        }
      ],
      "source": [
        "'''\n",
        "ANN ---artificial neural networks\n",
        "ai with tensorflow\n",
        "bnn--biological neural network\n",
        "ann\n",
        "\n",
        "human brain is a complex system made of billions of neurons to mimic function of human by deep learning\n",
        "the attempts to mimic strtuture and function of human brain led to new field called deep learning\n",
        "ann works similar to bnn\n",
        "4 layers in ann\n",
        "input layer\n",
        "hidden layers(1,2)\n",
        "output layer\n",
        "\n",
        "\n",
        "bnn normal dendrites anon normal neurons of brain\n",
        "\n",
        "ann neuron inputs with input weights is given to summation(f())\n",
        "here f() is activation function and summation is summing function and\n",
        "gives output as result\n",
        "'''\n"
      ]
    },
    {
      "cell_type": "code",
      "source": [
        "'''\n",
        "working of a perceptron\n",
        "one neuron = one perceptron\n",
        "step 1\n",
        "initial weights near zero but not zero\n",
        "w1 w2 w3 w4 weights to input features\n",
        "and input features x1 x2 x3 x4\n",
        "inputs are multiplied by weights and respective sum is takes\n",
        "summation(WiXi) i=1 to n\n",
        "\n",
        "\n",
        "step 2\n",
        "sum is passed to activation function\n",
        "\n",
        "phy(summation(WiXi) i=1 to n)\n",
        "\n",
        "\n",
        "step 3\n",
        "activation output is result\n",
        "'''"
      ],
      "metadata": {
        "colab": {
          "base_uri": "https://localhost:8080/",
          "height": 70
        },
        "id": "l1palkPU-Edx",
        "outputId": "f99dff51-508e-438a-f031-1e8b269df9bc"
      },
      "execution_count": 2,
      "outputs": [
        {
          "output_type": "execute_result",
          "data": {
            "text/plain": [
              "' \\nworking of a perceptron\\none neuron = one perceptron\\nstep 1 \\ninitial weights near zero but not zero\\nw1 w2 w3 w4 weights to input features\\nand input features x1 x2 x3 x4\\ninputs are multiplied by weights and respective sum is takes \\nsummation(WiXi) i=1 to n\\n\\n\\nstep 2 \\nsum is passed to activation function\\n\\nphy(summation(WiXi) i=1 to n)\\n\\n\\nstep 3 \\nactivation output is result\\n'"
            ],
            "application/vnd.google.colaboratory.intrinsic+json": {
              "type": "string"
            }
          },
          "metadata": {},
          "execution_count": 2
        }
      ]
    },
    {
      "cell_type": "code",
      "source": [
        "'''\n",
        "why weights added to i/p ?\n",
        "weiths are curcial in ann as they play imp role in learning process\n",
        "weights determine the strength of connections and how much influence one neuron has on another\n",
        "for  eg higher weight means stronger connection indicating input neurons information has more impact on output\n",
        "'''"
      ],
      "metadata": {
        "colab": {
          "base_uri": "https://localhost:8080/",
          "height": 53
        },
        "id": "eE_HMzy_-OpB",
        "outputId": "d447fe1c-3cff-4d1b-a928-b5ba910ae6b4"
      },
      "execution_count": 3,
      "outputs": [
        {
          "output_type": "execute_result",
          "data": {
            "text/plain": [
              "'\\nwhy weights added to i/p ?\\nweiths are curcial in ann as they play imp role in learning process\\nweights determine the strength of connections and how much influence one neuron has on another\\nfor  eg higher weight means stronger connection indicating input neurons information has more impact on output\\n'"
            ],
            "application/vnd.google.colaboratory.intrinsic+json": {
              "type": "string"
            }
          },
          "metadata": {},
          "execution_count": 3
        }
      ]
    },
    {
      "cell_type": "code",
      "source": [
        "'''\n",
        "why activation function?\n",
        "\n",
        "activation function play crucial role in ann by introducing non linearity into the model\n",
        "the primary purpose is to learn complex patterns and relationships in data\n",
        "eg--linear model predicts stock prices based on historical data linearly\n",
        "non linear model captures intricate market patterns enchancing its ability to make accurate predictions\n",
        "\n",
        "\n",
        "\n",
        "take graph\n",
        "\n",
        "draw line passing throuygh origin points both sides ----linear problem\n",
        "(by seeing data we can predict model no need much data)\n",
        "\n",
        "take circle in graph some points inside circle and some outside---non linear\n",
        "(no splitting of data to classes difficult to understand our model will learn data very well if non linear(train))\n",
        "so we convert linear data to  non linear by activation function\n",
        "'''"
      ],
      "metadata": {
        "id": "xM3nMDc8-XV3",
        "colab": {
          "base_uri": "https://localhost:8080/",
          "height": 105
        },
        "outputId": "7555d73f-ae4a-4edd-8c0e-afe5895c1175"
      },
      "execution_count": 6,
      "outputs": [
        {
          "output_type": "execute_result",
          "data": {
            "text/plain": [
              "'\\nwhy activation function?\\n\\nactivation function play crucial role in ann by introducing non linearity into the model\\nthe primary purpose is to learn complex patterns and relationships in data\\neg--linear model predicts stock prices based on historical data linearly\\nnon linear model captures intricate market patterns enchancing its ability to make accurate predictions\\n\\n\\n\\ntake graph \\n\\ndraw line passing throuygh origin points both sides ----linear problem\\n(by seeing data we can predict model no need much data)\\n\\ntake circle in graph some points inside circle and some outside---non linear\\n(no splitting of data to classes difficult to understand our model will learn data very well if non linear(train))\\nso we convert linear data to  non linear by activation function\\n'"
            ],
            "application/vnd.google.colaboratory.intrinsic+json": {
              "type": "string"
            }
          },
          "metadata": {},
          "execution_count": 6
        }
      ]
    },
    {
      "cell_type": "code",
      "source": [
        "'''\n",
        "types of activation functions(all functions have conditions)\n",
        "threshold function ( for binary class based on conditions)\n",
        "softmax function(multi class along with o/p func)\n",
        "sigmoid func(for binary classification)\n",
        "relu func( till 0 one o/p after whaterever value we take it is o/p) if -74.8 gives o/p as 0\n",
        "tanh func\n",
        "'''"
      ],
      "metadata": {
        "colab": {
          "base_uri": "https://localhost:8080/",
          "height": 70
        },
        "id": "VIi_ucQiXf4d",
        "outputId": "49b00a10-f7e0-4059-b189-36804136ebc4"
      },
      "execution_count": 15,
      "outputs": [
        {
          "output_type": "execute_result",
          "data": {
            "text/plain": [
              "'\\ntypes of activation functions(all functions have conditions)\\nthreshold function ( for binary class based on conditions)\\nsoftmax function(multi class along with o/p func)\\nsigmoid func(for binary classification)\\nrelu func( till 0 one o/p after whaterever value we take it is o/p) if -74.8 gives o/p as 0\\ntanh func\\n'"
            ],
            "application/vnd.google.colaboratory.intrinsic+json": {
              "type": "string"
            }
          },
          "metadata": {},
          "execution_count": 15
        }
      ]
    },
    {
      "cell_type": "code",
      "source": [
        "'''\n",
        "error theory\n",
        "(splitting)\n",
        "take 4 oranges 3 banana\n",
        "consider 2 bags which one bag should contain all bananas and other oranges\n",
        "case 1 one bag has 1 orange and other has all other fruits -----error is 3 (3 oranges in banana bag)\n",
        "case 2 one bag has 3 oranges other has all bancanas -----error is 0 or minimized or minimum(why not 0 exactly means 100% accuracy overfitting)\n",
        "case 3 one bag has 2 oranges and 1 banana and other has 2 orange 2 banana---error is 1(1 misclasification)\n",
        "'''"
      ],
      "metadata": {
        "colab": {
          "base_uri": "https://localhost:8080/",
          "height": 87
        },
        "id": "YomEF5fJY7CR",
        "outputId": "176cc666-6fcc-4ad0-d84a-2305da38eafc"
      },
      "execution_count": 13,
      "outputs": [
        {
          "output_type": "execute_result",
          "data": {
            "text/plain": [
              "'\\nerror theory\\n(splitting)\\ntake 4 oranges 3 banana\\nconsider 2 bags which one bag should contain all bananas and other oranges\\ncase 1 one bag has 1 orange and other has all other fruits -----error is 3 (3 oranges in banana bag)\\ncase 2 one bag has 3 oranges other has all bancanas -----error is 0 or minimized or minimum(why not 0 exactly means 100% accuracy overfitting)\\ncase 3 one bag has 2 oranges and 1 banana and other has 2 orange 2 banana---error is 1(1 misclasification)\\n'"
            ],
            "application/vnd.google.colaboratory.intrinsic+json": {
              "type": "string"
            }
          },
          "metadata": {},
          "execution_count": 13
        }
      ]
    },
    {
      "cell_type": "code",
      "source": [
        "'''\n",
        "working of ann\n",
        "for one obs\n",
        "rank=2 hours of study=12 past percent 84 exam 87\n",
        "\n",
        "2 weight=0,2\n",
        "12 weight=0.6\n",
        "84 weight=0.8\n",
        "\n",
        "(2*0.2+12*0.6+84*0.8)=74.8\n",
        "RELU(phy(74.8))=74.8\n",
        "\n",
        "predicted o/p=74.8\n",
        "actual o/p=87\n",
        "\n",
        "error b/w actual and predicted shuould be min that is best model\n",
        "'''"
      ],
      "metadata": {
        "colab": {
          "base_uri": "https://localhost:8080/",
          "height": 53
        },
        "id": "t_OzCA3da5e5",
        "outputId": "1d7704f7-168e-4cd6-9c78-1a4facf3ae06"
      },
      "execution_count": 20,
      "outputs": [
        {
          "output_type": "execute_result",
          "data": {
            "text/plain": [
              "'\\nworking of ann\\nfor one obs \\nrank=2 hours of study=12 past percent 84 exam 87\\n\\n2 weight=0,2\\n12 weight=0.6\\n84 weight=0.8\\n\\n(2*0.2+12*0.6+84*0.8)=74.8\\nRELU(phy(74.8))=74.8\\n\\npredicted o/p=74.8\\nactual o/p=87\\n\\nerror b/w actual and predicted shuould be min that is best model\\n'"
            ],
            "application/vnd.google.colaboratory.intrinsic+json": {
              "type": "string"
            }
          },
          "metadata": {},
          "execution_count": 20
        }
      ]
    },
    {
      "cell_type": "code",
      "source": [
        "'''\n",
        "now back propagation to improve model to learn again we  change weights again check error again go back propagation again again\n",
        " predicted o/p=74.8\n",
        "actual o/p=87\n",
        "\n",
        "RELU(phy(74.8))=74.8\n",
        "\n",
        "(2*0.2+12*0.6+84*0.8)=74.8\n",
        "\n",
        "2 weight=0,2\n",
        "12 weight=0.6\n",
        "84 weight=0.8\n",
        "\n",
        "back propagation or tuning our model\n",
        " '''"
      ],
      "metadata": {
        "colab": {
          "base_uri": "https://localhost:8080/",
          "height": 53
        },
        "id": "PEBIGRwocKIX",
        "outputId": "7a05ee0a-7da6-4edf-d95b-6fa990bbbc37"
      },
      "execution_count": 19,
      "outputs": [
        {
          "output_type": "execute_result",
          "data": {
            "text/plain": [
              "'\\nnow back propagation to improve model to learn again we  change weights again check error again go back propagation again again\\n predicted o/p=74.8\\nactual o/p=87\\n\\nRELU(phy(74.8))=74.8\\n\\n(2*0.2+12*0.6+84*0.8)=74.8\\n\\n2 weight=0,2\\n12 weight=0.6\\n84 weight=0.8\\n\\nback propagation or tuning our model \\n '"
            ],
            "application/vnd.google.colaboratory.intrinsic+json": {
              "type": "string"
            }
          },
          "metadata": {},
          "execution_count": 19
        }
      ]
    },
    {
      "cell_type": "code",
      "source": [
        "'''\n",
        "for 1000 observations\n",
        "result c1 c2 c3 ...cn\n",
        "sum of all results=o/p\n",
        "'''"
      ],
      "metadata": {
        "colab": {
          "base_uri": "https://localhost:8080/",
          "height": 35
        },
        "id": "kxa2Oi65dtjK",
        "outputId": "1beeac74-2170-4f2b-e621-493e7ad37f1b"
      },
      "execution_count": 21,
      "outputs": [
        {
          "output_type": "execute_result",
          "data": {
            "text/plain": [
              "' \\nfor 1000 observations \\nresult c1 c2 c3 ...cn\\nsum of all results=o/p\\n'"
            ],
            "application/vnd.google.colaboratory.intrinsic+json": {
              "type": "string"
            }
          },
          "metadata": {},
          "execution_count": 21
        }
      ]
    },
    {
      "cell_type": "code",
      "source": [
        "'''\n",
        "gradient descent\n",
        "\n",
        "\n",
        "gradient descent is an iterative optimization alg used to minimize a cost function by adjusting the parameters(weights and bases) of a model\n",
        "types :\n",
        "batch gradient desecnt\n",
        "stochastic gradient descent\n",
        "mini batch gradient descent\n",
        "\n",
        "(graph take +10 to -10 x axis and 0 to +10 y axis keep points on -Ve x axis on parabola touching throght origin)\n",
        "points on -ve x axis represent error reducing and origin touch is global minimum point\n",
        "'''"
      ],
      "metadata": {
        "colab": {
          "base_uri": "https://localhost:8080/",
          "height": 70
        },
        "id": "s7IMFPNoeD9Y",
        "outputId": "5093d0e6-637c-437c-b813-4c59763b205e"
      },
      "execution_count": 23,
      "outputs": [
        {
          "output_type": "execute_result",
          "data": {
            "text/plain": [
              "'\\ngradient descent\\n\\n\\ngradient descent is an iterative optimization alg used to minimize a cost function by adjusting the parameters(weights and bases) of a model\\ntypes :\\nbatch gradient desecnt\\nstochastic gradient descent\\nmini batch gradient descent\\n\\n(graph take +10 to -10 x axis and 0 to +10 y axis keep points on -Ve x axis on parabola touching throght origin)\\npoints on -ve x axis represent error reducing and origin touch is global minimum point\\n'"
            ],
            "application/vnd.google.colaboratory.intrinsic+json": {
              "type": "string"
            }
          },
          "metadata": {},
          "execution_count": 23
        }
      ]
    },
    {
      "cell_type": "code",
      "source": [
        "'''\n",
        "how does gradient dscent work?\n",
        "\n",
        "step 1 initialization\n",
        "2 compute cost function  C=1/2(y^-Y)2\n",
        "3 compute gradient\n",
        "4 update parameters (new parameter=old parameter-learning rate *gradient)\n",
        "(the learning rate is a crucial hyper parameter and choosing right value is often part of model tuning process the value of learning rate is typically set b/w 0 and 1)\n",
        "5 repeat 2 3 4\n",
        "'''"
      ],
      "metadata": {
        "colab": {
          "base_uri": "https://localhost:8080/",
          "height": 70
        },
        "id": "P6Jf4BZffWqT",
        "outputId": "b90a5f85-8385-4b74-ce2b-fcf6d2afb978"
      },
      "execution_count": 25,
      "outputs": [
        {
          "output_type": "execute_result",
          "data": {
            "text/plain": [
              "'\\nhow does gradient dscent work?\\n\\nstep 1 initialization \\n2 compute cost function  C=1/2(y^-Y)2\\n3 compute gradient \\n4 update parameters (new parameter=old parameter-learning rate *gradient)\\n(the learning rate is a crucial hyper parameter and choosing right value is often part of model tuning process the value of learning rate is typically set b/w 0 and 1)\\n5 repeat 2 3 4\\n'"
            ],
            "application/vnd.google.colaboratory.intrinsic+json": {
              "type": "string"
            }
          },
          "metadata": {},
          "execution_count": 25
        }
      ]
    },
    {
      "cell_type": "code",
      "source": [],
      "metadata": {
        "id": "t-0cBMQ3gkcJ"
      },
      "execution_count": null,
      "outputs": []
    }
  ]
}